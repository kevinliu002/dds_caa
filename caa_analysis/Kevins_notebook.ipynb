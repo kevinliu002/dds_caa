{
 "cells": [
  {
   "cell_type": "markdown",
   "metadata": {},
   "source": [
    "Research Analysis performed by Kevin Kwok-Ho Liu, University of California Berkeley\n",
    "\n",
    "A joint collaboration between the Division of Data Science, Computing, & Society and Cal Alumni Association\n"
   ]
  },
  {
   "cell_type": "code",
   "execution_count": 234,
   "metadata": {},
   "outputs": [],
   "source": [
    "import numpy as np\n",
    "import pandas as pd \n",
    "from random import choices\n",
    "import matplotlib.pyplot as plt\n",
    "import seaborn as sns\n",
    "\n",
    "import bz2 # Used to read compressed data\n",
    "import os # Used to interact with the file system"
   ]
  },
  {
   "cell_type": "markdown",
   "metadata": {},
   "source": [
    "We begin by loading the appropriate data tables."
   ]
  },
  {
   "cell_type": "code",
   "execution_count": 235,
   "metadata": {},
   "outputs": [],
   "source": [
    "interest_info = pd.read_csv(\"./data_file/Interest_Info.csv\")\n",
    "caa_membership = pd.read_csv(\"./data_file/CAA_Membership_Info.csv\")\n",
    "Student_Activity = pd.read_csv(\"./data_file/Student_Activity_Info.csv\")\n",
    "affilation_info = pd.read_csv(\"./data_file/Affiliation_Info.csv\")"
   ]
  },
  {
   "cell_type": "code",
   "execution_count": 236,
   "metadata": {},
   "outputs": [
    {
     "data": {
      "text/html": [
       "<div>\n",
       "<style scoped>\n",
       "    .dataframe tbody tr th:only-of-type {\n",
       "        vertical-align: middle;\n",
       "    }\n",
       "\n",
       "    .dataframe tbody tr th {\n",
       "        vertical-align: top;\n",
       "    }\n",
       "\n",
       "    .dataframe thead th {\n",
       "        text-align: right;\n",
       "    }\n",
       "</style>\n",
       "<table border=\"1\" class=\"dataframe\">\n",
       "  <thead>\n",
       "    <tr style=\"text-align: right;\">\n",
       "      <th></th>\n",
       "      <th>entity_id</th>\n",
       "      <th>affil_code</th>\n",
       "      <th>affil_code_desc</th>\n",
       "      <th>affil_level_code</th>\n",
       "      <th>affil_level_code_desc</th>\n",
       "      <th>affil_status_code</th>\n",
       "      <th>affil_status_desc</th>\n",
       "      <th>start_date</th>\n",
       "      <th>stop_date</th>\n",
       "    </tr>\n",
       "  </thead>\n",
       "  <tbody>\n",
       "    <tr>\n",
       "      <th>0</th>\n",
       "      <td>2</td>\n",
       "      <td>LHSM</td>\n",
       "      <td>Lawrence Hall of Science Member</td>\n",
       "      <td>M</td>\n",
       "      <td>Member</td>\n",
       "      <td>F</td>\n",
       "      <td>Former</td>\n",
       "      <td>2013-08-20 00:00:00</td>\n",
       "      <td>2014-08-31 00:00:00</td>\n",
       "    </tr>\n",
       "    <tr>\n",
       "      <th>1</th>\n",
       "      <td>2</td>\n",
       "      <td>V6</td>\n",
       "      <td>Guardsmen - San Francisco</td>\n",
       "      <td>M</td>\n",
       "      <td>Member</td>\n",
       "      <td>C</td>\n",
       "      <td>Current</td>\n",
       "      <td>1995-07-01 00:00:00</td>\n",
       "      <td>NaN</td>\n",
       "    </tr>\n",
       "    <tr>\n",
       "      <th>2</th>\n",
       "      <td>2</td>\n",
       "      <td>V2</td>\n",
       "      <td>Junior League of Oakland/East Bay</td>\n",
       "      <td>AM</td>\n",
       "      <td>Associate Member</td>\n",
       "      <td>C</td>\n",
       "      <td>Current</td>\n",
       "      <td>1994-06-15 00:00:00</td>\n",
       "      <td>NaN</td>\n",
       "    </tr>\n",
       "    <tr>\n",
       "      <th>3</th>\n",
       "      <td>2</td>\n",
       "      <td>S38</td>\n",
       "      <td>Claremont Country Club</td>\n",
       "      <td>M</td>\n",
       "      <td>Member</td>\n",
       "      <td>C</td>\n",
       "      <td>Current</td>\n",
       "      <td>1994-04-06 00:00:00</td>\n",
       "      <td>NaN</td>\n",
       "    </tr>\n",
       "    <tr>\n",
       "      <th>4</th>\n",
       "      <td>2</td>\n",
       "      <td>ATFAT</td>\n",
       "      <td>Friends of Athletics</td>\n",
       "      <td>FR</td>\n",
       "      <td>Friend</td>\n",
       "      <td>C</td>\n",
       "      <td>Current</td>\n",
       "      <td>2017-09-18 00:00:00</td>\n",
       "      <td>NaN</td>\n",
       "    </tr>\n",
       "  </tbody>\n",
       "</table>\n",
       "</div>"
      ],
      "text/plain": [
       "   entity_id affil_code                    affil_code_desc affil_level_code  \\\n",
       "0          2       LHSM    Lawrence Hall of Science Member                M   \n",
       "1          2         V6          Guardsmen - San Francisco                M   \n",
       "2          2         V2  Junior League of Oakland/East Bay               AM   \n",
       "3          2        S38             Claremont Country Club                M   \n",
       "4          2      ATFAT               Friends of Athletics               FR   \n",
       "\n",
       "  affil_level_code_desc affil_status_code affil_status_desc  \\\n",
       "0                Member                 F            Former   \n",
       "1                Member                 C           Current   \n",
       "2      Associate Member                 C           Current   \n",
       "3                Member                 C           Current   \n",
       "4                Friend                 C           Current   \n",
       "\n",
       "            start_date            stop_date  \n",
       "0  2013-08-20 00:00:00  2014-08-31 00:00:00  \n",
       "1  1995-07-01 00:00:00                  NaN  \n",
       "2  1994-06-15 00:00:00                  NaN  \n",
       "3  1994-04-06 00:00:00                  NaN  \n",
       "4  2017-09-18 00:00:00                  NaN  "
      ]
     },
     "execution_count": 236,
     "metadata": {},
     "output_type": "execute_result"
    }
   ],
   "source": [
    "affilation_info.head()"
   ]
  },
  {
   "cell_type": "markdown",
   "metadata": {},
   "source": [
    "Let's start by inporting some data, we will focus on the interest_info, CAA_Membership_Info, and Student_Activity_Info files to see what we can find out about a student's interests and their participation of\n",
    "the CAA network.\n",
    "\n",
    "Here we have the Student Activity table that has the following column values:\n",
    "entity_id,student_activity_code, student_activity_desc,student_particip_desc \tactivity_office_cod)"
   ]
  },
  {
   "cell_type": "code",
   "execution_count": 237,
   "metadata": {},
   "outputs": [
    {
     "data": {
      "text/html": [
       "<div>\n",
       "<style scoped>\n",
       "    .dataframe tbody tr th:only-of-type {\n",
       "        vertical-align: middle;\n",
       "    }\n",
       "\n",
       "    .dataframe tbody tr th {\n",
       "        vertical-align: top;\n",
       "    }\n",
       "\n",
       "    .dataframe thead th {\n",
       "        text-align: right;\n",
       "    }\n",
       "</style>\n",
       "<table border=\"1\" class=\"dataframe\">\n",
       "  <thead>\n",
       "    <tr style=\"text-align: right;\">\n",
       "      <th></th>\n",
       "      <th>entity_id</th>\n",
       "      <th>student_activity_code</th>\n",
       "      <th>student_activity_desc</th>\n",
       "      <th>student_particip_code</th>\n",
       "      <th>student_particip_desc</th>\n",
       "      <th>activity_office_code</th>\n",
       "      <th>activity_office_desc</th>\n",
       "      <th>start_dt</th>\n",
       "      <th>stop_dt</th>\n",
       "    </tr>\n",
       "  </thead>\n",
       "  <tbody>\n",
       "    <tr>\n",
       "      <th>0</th>\n",
       "      <td>3</td>\n",
       "      <td>GAOI</td>\n",
       "      <td>Alpha Omicron Pi</td>\n",
       "      <td>P</td>\n",
       "      <td>Participated</td>\n",
       "      <td></td>\n",
       "      <td>NaN</td>\n",
       "      <td>NaN</td>\n",
       "      <td>NaN</td>\n",
       "    </tr>\n",
       "    <tr>\n",
       "      <th>1</th>\n",
       "      <td>4</td>\n",
       "      <td>GSCF</td>\n",
       "      <td>Sigma Chi Fraternity</td>\n",
       "      <td>P</td>\n",
       "      <td>Participated</td>\n",
       "      <td></td>\n",
       "      <td>NaN</td>\n",
       "      <td>NaN</td>\n",
       "      <td>NaN</td>\n",
       "    </tr>\n",
       "    <tr>\n",
       "      <th>2</th>\n",
       "      <td>4</td>\n",
       "      <td>USPS</td>\n",
       "      <td>Assoc Students Of Pretrial Svcs</td>\n",
       "      <td>P</td>\n",
       "      <td>Participated</td>\n",
       "      <td></td>\n",
       "      <td>NaN</td>\n",
       "      <td>NaN</td>\n",
       "      <td>NaN</td>\n",
       "    </tr>\n",
       "    <tr>\n",
       "      <th>3</th>\n",
       "      <td>4</td>\n",
       "      <td>RHI6</td>\n",
       "      <td>1963-72 I-House Resident</td>\n",
       "      <td>P</td>\n",
       "      <td>Participated</td>\n",
       "      <td></td>\n",
       "      <td>NaN</td>\n",
       "      <td>NaN</td>\n",
       "      <td>NaN</td>\n",
       "    </tr>\n",
       "    <tr>\n",
       "      <th>4</th>\n",
       "      <td>4</td>\n",
       "      <td>RHIH</td>\n",
       "      <td>International House Resident</td>\n",
       "      <td>P</td>\n",
       "      <td>Participated</td>\n",
       "      <td></td>\n",
       "      <td>NaN</td>\n",
       "      <td>NaN</td>\n",
       "      <td>NaN</td>\n",
       "    </tr>\n",
       "  </tbody>\n",
       "</table>\n",
       "</div>"
      ],
      "text/plain": [
       "   entity_id student_activity_code            student_activity_desc  \\\n",
       "0          3                  GAOI                 Alpha Omicron Pi   \n",
       "1          4                  GSCF             Sigma Chi Fraternity   \n",
       "2          4                  USPS  Assoc Students Of Pretrial Svcs   \n",
       "3          4                  RHI6         1963-72 I-House Resident   \n",
       "4          4                  RHIH     International House Resident   \n",
       "\n",
       "  student_particip_code student_particip_desc activity_office_code  \\\n",
       "0                     P          Participated                        \n",
       "1                     P          Participated                        \n",
       "2                     P          Participated                        \n",
       "3                     P          Participated                        \n",
       "4                     P          Participated                        \n",
       "\n",
       "  activity_office_desc start_dt stop_dt  \n",
       "0                  NaN      NaN     NaN  \n",
       "1                  NaN      NaN     NaN  \n",
       "2                  NaN      NaN     NaN  \n",
       "3                  NaN      NaN     NaN  \n",
       "4                  NaN      NaN     NaN  "
      ]
     },
     "execution_count": 237,
     "metadata": {},
     "output_type": "execute_result"
    }
   ],
   "source": [
    "Student_Activity.head() \n"
   ]
  },
  {
   "cell_type": "markdown",
   "metadata": {},
   "source": [
    "We also have the caa_membership table with the following column values:entity_id \tcaa_current_memb \tcaa_latest_memb_type_code \tcaa_latest_memb_type_desc \tcaa_latest_memb_status_code \tcaa_latest_memb_status_desc \tcaa_latest_memb_year \tcaa_latest_memb_start_date \tcaa_latest_memb_stop_date"
   ]
  },
  {
   "cell_type": "code",
   "execution_count": 238,
   "metadata": {
    "scrolled": true
   },
   "outputs": [
    {
     "data": {
      "text/html": [
       "<div>\n",
       "<style scoped>\n",
       "    .dataframe tbody tr th:only-of-type {\n",
       "        vertical-align: middle;\n",
       "    }\n",
       "\n",
       "    .dataframe tbody tr th {\n",
       "        vertical-align: top;\n",
       "    }\n",
       "\n",
       "    .dataframe thead th {\n",
       "        text-align: right;\n",
       "    }\n",
       "</style>\n",
       "<table border=\"1\" class=\"dataframe\">\n",
       "  <thead>\n",
       "    <tr style=\"text-align: right;\">\n",
       "      <th></th>\n",
       "      <th>entity_id</th>\n",
       "      <th>caa_current_memb</th>\n",
       "      <th>caa_latest_memb_type_code</th>\n",
       "      <th>caa_latest_memb_type_desc</th>\n",
       "      <th>caa_latest_memb_status_code</th>\n",
       "      <th>caa_latest_memb_status_desc</th>\n",
       "      <th>caa_latest_memb_year</th>\n",
       "      <th>caa_latest_memb_start_date</th>\n",
       "      <th>caa_latest_memb_stop_date</th>\n",
       "    </tr>\n",
       "  </thead>\n",
       "  <tbody>\n",
       "    <tr>\n",
       "      <th>0</th>\n",
       "      <td>3</td>\n",
       "      <td>Y</td>\n",
       "      <td>LB</td>\n",
       "      <td>CAA Golden Bear Life Upgrade</td>\n",
       "      <td>P</td>\n",
       "      <td>Paid</td>\n",
       "      <td>2012</td>\n",
       "      <td>2012-01-06 00:00:00</td>\n",
       "      <td>NaN</td>\n",
       "    </tr>\n",
       "    <tr>\n",
       "      <th>1</th>\n",
       "      <td>4</td>\n",
       "      <td>Y</td>\n",
       "      <td>RL</td>\n",
       "      <td>CAA Regular Life Member</td>\n",
       "      <td>P</td>\n",
       "      <td>Paid</td>\n",
       "      <td>1973</td>\n",
       "      <td>1972-03-13 00:00:00</td>\n",
       "      <td>NaN</td>\n",
       "    </tr>\n",
       "    <tr>\n",
       "      <th>2</th>\n",
       "      <td>7</td>\n",
       "      <td>Y</td>\n",
       "      <td>RL</td>\n",
       "      <td>CAA Regular Life Member</td>\n",
       "      <td>P</td>\n",
       "      <td>Paid</td>\n",
       "      <td>1931</td>\n",
       "      <td>1930-01-01 00:00:00</td>\n",
       "      <td>NaN</td>\n",
       "    </tr>\n",
       "    <tr>\n",
       "      <th>3</th>\n",
       "      <td>10</td>\n",
       "      <td>Y</td>\n",
       "      <td>RL</td>\n",
       "      <td>CAA Regular Life Member</td>\n",
       "      <td>P</td>\n",
       "      <td>Paid</td>\n",
       "      <td>1975</td>\n",
       "      <td>1974-01-17 00:00:00</td>\n",
       "      <td>NaN</td>\n",
       "    </tr>\n",
       "    <tr>\n",
       "      <th>4</th>\n",
       "      <td>11</td>\n",
       "      <td>Y</td>\n",
       "      <td>RL</td>\n",
       "      <td>CAA Regular Life Member</td>\n",
       "      <td>P</td>\n",
       "      <td>Paid</td>\n",
       "      <td>1972</td>\n",
       "      <td>1971-05-16 00:00:00</td>\n",
       "      <td>NaN</td>\n",
       "    </tr>\n",
       "  </tbody>\n",
       "</table>\n",
       "</div>"
      ],
      "text/plain": [
       "   entity_id caa_current_memb caa_latest_memb_type_code  \\\n",
       "0          3                Y                        LB   \n",
       "1          4                Y                        RL   \n",
       "2          7                Y                        RL   \n",
       "3         10                Y                        RL   \n",
       "4         11                Y                        RL   \n",
       "\n",
       "      caa_latest_memb_type_desc caa_latest_memb_status_code  \\\n",
       "0  CAA Golden Bear Life Upgrade                           P   \n",
       "1       CAA Regular Life Member                           P   \n",
       "2       CAA Regular Life Member                           P   \n",
       "3       CAA Regular Life Member                           P   \n",
       "4       CAA Regular Life Member                           P   \n",
       "\n",
       "  caa_latest_memb_status_desc  caa_latest_memb_year  \\\n",
       "0                        Paid                  2012   \n",
       "1                        Paid                  1973   \n",
       "2                        Paid                  1931   \n",
       "3                        Paid                  1975   \n",
       "4                        Paid                  1972   \n",
       "\n",
       "  caa_latest_memb_start_date caa_latest_memb_stop_date  \n",
       "0        2012-01-06 00:00:00                       NaN  \n",
       "1        1972-03-13 00:00:00                       NaN  \n",
       "2        1930-01-01 00:00:00                       NaN  \n",
       "3        1974-01-17 00:00:00                       NaN  \n",
       "4        1971-05-16 00:00:00                       NaN  "
      ]
     },
     "execution_count": 238,
     "metadata": {},
     "output_type": "execute_result"
    }
   ],
   "source": [
    "caa_membership.head() "
   ]
  },
  {
   "cell_type": "markdown",
   "metadata": {},
   "source": [
    "And we have the interest_info table with the follow column values:\n",
    "    entity_id\n",
    "    interest_code\n",
    "    interest_desc\n",
    "    start_dt \n",
    "    stop_dt"
   ]
  },
  {
   "cell_type": "code",
   "execution_count": 239,
   "metadata": {},
   "outputs": [
    {
     "data": {
      "text/html": [
       "<div>\n",
       "<style scoped>\n",
       "    .dataframe tbody tr th:only-of-type {\n",
       "        vertical-align: middle;\n",
       "    }\n",
       "\n",
       "    .dataframe tbody tr th {\n",
       "        vertical-align: top;\n",
       "    }\n",
       "\n",
       "    .dataframe thead th {\n",
       "        text-align: right;\n",
       "    }\n",
       "</style>\n",
       "<table border=\"1\" class=\"dataframe\">\n",
       "  <thead>\n",
       "    <tr style=\"text-align: right;\">\n",
       "      <th></th>\n",
       "      <th>entity_id</th>\n",
       "      <th>interest_code</th>\n",
       "      <th>interest_desc</th>\n",
       "      <th>start_dt</th>\n",
       "      <th>stop_dt</th>\n",
       "    </tr>\n",
       "  </thead>\n",
       "  <tbody>\n",
       "    <tr>\n",
       "      <th>0</th>\n",
       "      <td>2</td>\n",
       "      <td>GOL</td>\n",
       "      <td>Golf</td>\n",
       "      <td>NaN</td>\n",
       "      <td>NaN</td>\n",
       "    </tr>\n",
       "    <tr>\n",
       "      <th>1</th>\n",
       "      <td>2</td>\n",
       "      <td>FOO</td>\n",
       "      <td>Football</td>\n",
       "      <td>NaN</td>\n",
       "      <td>2015-02-05 00:00:00</td>\n",
       "    </tr>\n",
       "    <tr>\n",
       "      <th>2</th>\n",
       "      <td>15</td>\n",
       "      <td>DEM</td>\n",
       "      <td>Democratic Politics</td>\n",
       "      <td>2019-01-01 00:00:00</td>\n",
       "      <td>NaN</td>\n",
       "    </tr>\n",
       "    <tr>\n",
       "      <th>3</th>\n",
       "      <td>15</td>\n",
       "      <td>CIV</td>\n",
       "      <td>Civic Affairs</td>\n",
       "      <td>2019-01-01 00:00:00</td>\n",
       "      <td>NaN</td>\n",
       "    </tr>\n",
       "    <tr>\n",
       "      <th>4</th>\n",
       "      <td>18</td>\n",
       "      <td>GOL</td>\n",
       "      <td>Golf</td>\n",
       "      <td>2015-03-24 00:00:00</td>\n",
       "      <td>NaN</td>\n",
       "    </tr>\n",
       "  </tbody>\n",
       "</table>\n",
       "</div>"
      ],
      "text/plain": [
       "   entity_id interest_code        interest_desc             start_dt  \\\n",
       "0          2           GOL                 Golf                  NaN   \n",
       "1          2           FOO             Football                  NaN   \n",
       "2         15           DEM  Democratic Politics  2019-01-01 00:00:00   \n",
       "3         15           CIV        Civic Affairs  2019-01-01 00:00:00   \n",
       "4         18           GOL                 Golf  2015-03-24 00:00:00   \n",
       "\n",
       "               stop_dt  \n",
       "0                  NaN  \n",
       "1  2015-02-05 00:00:00  \n",
       "2                  NaN  \n",
       "3                  NaN  \n",
       "4                  NaN  "
      ]
     },
     "execution_count": 239,
     "metadata": {},
     "output_type": "execute_result"
    }
   ],
   "source": [
    "interest_info.head() "
   ]
  },
  {
   "cell_type": "markdown",
   "metadata": {},
   "source": [
    "We perform an outer merge with caa_membership and interest_info to get a table of all members and what interests they\n",
    "had. We also clean the data up a bit by removing any members that have a NaN of \"caa_current_memb\" status."
   ]
  },
  {
   "cell_type": "code",
   "execution_count": 240,
   "metadata": {},
   "outputs": [
    {
     "data": {
      "text/html": [
       "<div>\n",
       "<style scoped>\n",
       "    .dataframe tbody tr th:only-of-type {\n",
       "        vertical-align: middle;\n",
       "    }\n",
       "\n",
       "    .dataframe tbody tr th {\n",
       "        vertical-align: top;\n",
       "    }\n",
       "\n",
       "    .dataframe thead th {\n",
       "        text-align: right;\n",
       "    }\n",
       "</style>\n",
       "<table border=\"1\" class=\"dataframe\">\n",
       "  <thead>\n",
       "    <tr style=\"text-align: right;\">\n",
       "      <th></th>\n",
       "      <th>entity_id</th>\n",
       "      <th>interest_code</th>\n",
       "      <th>interest_desc</th>\n",
       "      <th>start_dt</th>\n",
       "      <th>stop_dt</th>\n",
       "      <th>caa_current_memb</th>\n",
       "      <th>caa_latest_memb_type_code</th>\n",
       "      <th>caa_latest_memb_type_desc</th>\n",
       "      <th>caa_latest_memb_status_code</th>\n",
       "      <th>caa_latest_memb_status_desc</th>\n",
       "      <th>caa_latest_memb_year</th>\n",
       "      <th>caa_latest_memb_start_date</th>\n",
       "      <th>caa_latest_memb_stop_date</th>\n",
       "    </tr>\n",
       "  </thead>\n",
       "  <tbody>\n",
       "    <tr>\n",
       "      <th>2</th>\n",
       "      <td>15</td>\n",
       "      <td>DEM</td>\n",
       "      <td>Democratic Politics</td>\n",
       "      <td>2019-01-01 00:00:00</td>\n",
       "      <td>NaN</td>\n",
       "      <td>N</td>\n",
       "      <td>PL</td>\n",
       "      <td>CAA Paying Life</td>\n",
       "      <td>W</td>\n",
       "      <td>Lapsed</td>\n",
       "      <td>2010.0</td>\n",
       "      <td>2010-02-10 00:00:00</td>\n",
       "      <td>NaN</td>\n",
       "    </tr>\n",
       "    <tr>\n",
       "      <th>3</th>\n",
       "      <td>15</td>\n",
       "      <td>CIV</td>\n",
       "      <td>Civic Affairs</td>\n",
       "      <td>2019-01-01 00:00:00</td>\n",
       "      <td>NaN</td>\n",
       "      <td>N</td>\n",
       "      <td>PL</td>\n",
       "      <td>CAA Paying Life</td>\n",
       "      <td>W</td>\n",
       "      <td>Lapsed</td>\n",
       "      <td>2010.0</td>\n",
       "      <td>2010-02-10 00:00:00</td>\n",
       "      <td>NaN</td>\n",
       "    </tr>\n",
       "    <tr>\n",
       "      <th>8</th>\n",
       "      <td>29</td>\n",
       "      <td>REP</td>\n",
       "      <td>Republican Politics</td>\n",
       "      <td>2019-01-01 00:00:00</td>\n",
       "      <td>NaN</td>\n",
       "      <td>Y</td>\n",
       "      <td>RL</td>\n",
       "      <td>CAA Regular Life Member</td>\n",
       "      <td>P</td>\n",
       "      <td>Paid</td>\n",
       "      <td>1961.0</td>\n",
       "      <td>1960-06-02 00:00:00</td>\n",
       "      <td>NaN</td>\n",
       "    </tr>\n",
       "    <tr>\n",
       "      <th>9</th>\n",
       "      <td>29</td>\n",
       "      <td>CIV</td>\n",
       "      <td>Civic Affairs</td>\n",
       "      <td>2019-01-01 00:00:00</td>\n",
       "      <td>NaN</td>\n",
       "      <td>Y</td>\n",
       "      <td>RL</td>\n",
       "      <td>CAA Regular Life Member</td>\n",
       "      <td>P</td>\n",
       "      <td>Paid</td>\n",
       "      <td>1961.0</td>\n",
       "      <td>1960-06-02 00:00:00</td>\n",
       "      <td>NaN</td>\n",
       "    </tr>\n",
       "    <tr>\n",
       "      <th>10</th>\n",
       "      <td>31</td>\n",
       "      <td>DEM</td>\n",
       "      <td>Democratic Politics</td>\n",
       "      <td>2019-01-01 00:00:00</td>\n",
       "      <td>NaN</td>\n",
       "      <td>Y</td>\n",
       "      <td>RL</td>\n",
       "      <td>CAA Regular Life Member</td>\n",
       "      <td>P</td>\n",
       "      <td>Paid</td>\n",
       "      <td>1996.0</td>\n",
       "      <td>1995-10-13 00:00:00</td>\n",
       "      <td>NaN</td>\n",
       "    </tr>\n",
       "  </tbody>\n",
       "</table>\n",
       "</div>"
      ],
      "text/plain": [
       "    entity_id interest_code        interest_desc             start_dt stop_dt  \\\n",
       "2          15           DEM  Democratic Politics  2019-01-01 00:00:00     NaN   \n",
       "3          15           CIV        Civic Affairs  2019-01-01 00:00:00     NaN   \n",
       "8          29           REP  Republican Politics  2019-01-01 00:00:00     NaN   \n",
       "9          29           CIV        Civic Affairs  2019-01-01 00:00:00     NaN   \n",
       "10         31           DEM  Democratic Politics  2019-01-01 00:00:00     NaN   \n",
       "\n",
       "   caa_current_memb caa_latest_memb_type_code caa_latest_memb_type_desc  \\\n",
       "2                 N                        PL           CAA Paying Life   \n",
       "3                 N                        PL           CAA Paying Life   \n",
       "8                 Y                        RL   CAA Regular Life Member   \n",
       "9                 Y                        RL   CAA Regular Life Member   \n",
       "10                Y                        RL   CAA Regular Life Member   \n",
       "\n",
       "   caa_latest_memb_status_code caa_latest_memb_status_desc  \\\n",
       "2                            W                      Lapsed   \n",
       "3                            W                      Lapsed   \n",
       "8                            P                        Paid   \n",
       "9                            P                        Paid   \n",
       "10                           P                        Paid   \n",
       "\n",
       "    caa_latest_memb_year caa_latest_memb_start_date caa_latest_memb_stop_date  \n",
       "2                 2010.0        2010-02-10 00:00:00                       NaN  \n",
       "3                 2010.0        2010-02-10 00:00:00                       NaN  \n",
       "8                 1961.0        1960-06-02 00:00:00                       NaN  \n",
       "9                 1961.0        1960-06-02 00:00:00                       NaN  \n",
       "10                1996.0        1995-10-13 00:00:00                       NaN  "
      ]
     },
     "execution_count": 240,
     "metadata": {},
     "output_type": "execute_result"
    }
   ],
   "source": [
    "## Interest info outer merge with caa_membership\n",
    "membership_interests = interest_info.merge(caa_membership, how = \"outer\", left_on = \"entity_id\", right_on = \"entity_id\")\n",
    "membership_interests = membership_interests[membership_interests['caa_current_memb'].notnull()]\n",
    "membership_interests.head()"
   ]
  },
  {
   "cell_type": "code",
   "execution_count": 241,
   "metadata": {},
   "outputs": [
    {
     "data": {
      "text/html": [
       "<div>\n",
       "<style scoped>\n",
       "    .dataframe tbody tr th:only-of-type {\n",
       "        vertical-align: middle;\n",
       "    }\n",
       "\n",
       "    .dataframe tbody tr th {\n",
       "        vertical-align: top;\n",
       "    }\n",
       "\n",
       "    .dataframe thead th {\n",
       "        text-align: right;\n",
       "    }\n",
       "</style>\n",
       "<table border=\"1\" class=\"dataframe\">\n",
       "  <thead>\n",
       "    <tr style=\"text-align: right;\">\n",
       "      <th></th>\n",
       "      <th>entity_id</th>\n",
       "      <th>interest_code</th>\n",
       "      <th>interest_desc</th>\n",
       "      <th>caa_current_memb</th>\n",
       "      <th>caa_latest_memb_type_desc</th>\n",
       "    </tr>\n",
       "  </thead>\n",
       "  <tbody>\n",
       "    <tr>\n",
       "      <th>2</th>\n",
       "      <td>15</td>\n",
       "      <td>DEM</td>\n",
       "      <td>Democratic Politics</td>\n",
       "      <td>N</td>\n",
       "      <td>CAA Paying Life</td>\n",
       "    </tr>\n",
       "    <tr>\n",
       "      <th>3</th>\n",
       "      <td>15</td>\n",
       "      <td>CIV</td>\n",
       "      <td>Civic Affairs</td>\n",
       "      <td>N</td>\n",
       "      <td>CAA Paying Life</td>\n",
       "    </tr>\n",
       "    <tr>\n",
       "      <th>8</th>\n",
       "      <td>29</td>\n",
       "      <td>REP</td>\n",
       "      <td>Republican Politics</td>\n",
       "      <td>Y</td>\n",
       "      <td>CAA Regular Life Member</td>\n",
       "    </tr>\n",
       "    <tr>\n",
       "      <th>9</th>\n",
       "      <td>29</td>\n",
       "      <td>CIV</td>\n",
       "      <td>Civic Affairs</td>\n",
       "      <td>Y</td>\n",
       "      <td>CAA Regular Life Member</td>\n",
       "    </tr>\n",
       "    <tr>\n",
       "      <th>10</th>\n",
       "      <td>31</td>\n",
       "      <td>DEM</td>\n",
       "      <td>Democratic Politics</td>\n",
       "      <td>Y</td>\n",
       "      <td>CAA Regular Life Member</td>\n",
       "    </tr>\n",
       "  </tbody>\n",
       "</table>\n",
       "</div>"
      ],
      "text/plain": [
       "    entity_id interest_code        interest_desc caa_current_memb  \\\n",
       "2          15           DEM  Democratic Politics                N   \n",
       "3          15           CIV        Civic Affairs                N   \n",
       "8          29           REP  Republican Politics                Y   \n",
       "9          29           CIV        Civic Affairs                Y   \n",
       "10         31           DEM  Democratic Politics                Y   \n",
       "\n",
       "   caa_latest_memb_type_desc  \n",
       "2            CAA Paying Life  \n",
       "3            CAA Paying Life  \n",
       "8    CAA Regular Life Member  \n",
       "9    CAA Regular Life Member  \n",
       "10   CAA Regular Life Member  "
      ]
     },
     "execution_count": 241,
     "metadata": {},
     "output_type": "execute_result"
    }
   ],
   "source": [
    "membership_interests_filtered = membership_interests[['entity_id','interest_code','interest_desc','caa_current_memb','caa_latest_memb_type_desc']]\n",
    "membership_interests_filtered.head()"
   ]
  },
  {
   "cell_type": "markdown",
   "metadata": {},
   "source": [
    "We now filter out only the current members."
   ]
  },
  {
   "cell_type": "code",
   "execution_count": 242,
   "metadata": {},
   "outputs": [
    {
     "data": {
      "text/html": [
       "<div>\n",
       "<style scoped>\n",
       "    .dataframe tbody tr th:only-of-type {\n",
       "        vertical-align: middle;\n",
       "    }\n",
       "\n",
       "    .dataframe tbody tr th {\n",
       "        vertical-align: top;\n",
       "    }\n",
       "\n",
       "    .dataframe thead th {\n",
       "        text-align: right;\n",
       "    }\n",
       "</style>\n",
       "<table border=\"1\" class=\"dataframe\">\n",
       "  <thead>\n",
       "    <tr style=\"text-align: right;\">\n",
       "      <th></th>\n",
       "      <th>entity_id</th>\n",
       "      <th>interest_code</th>\n",
       "      <th>interest_desc</th>\n",
       "      <th>caa_current_memb</th>\n",
       "      <th>caa_latest_memb_type_desc</th>\n",
       "    </tr>\n",
       "  </thead>\n",
       "  <tbody>\n",
       "    <tr>\n",
       "      <th>8</th>\n",
       "      <td>29</td>\n",
       "      <td>REP</td>\n",
       "      <td>Republican Politics</td>\n",
       "      <td>Y</td>\n",
       "      <td>CAA Regular Life Member</td>\n",
       "    </tr>\n",
       "    <tr>\n",
       "      <th>9</th>\n",
       "      <td>29</td>\n",
       "      <td>CIV</td>\n",
       "      <td>Civic Affairs</td>\n",
       "      <td>Y</td>\n",
       "      <td>CAA Regular Life Member</td>\n",
       "    </tr>\n",
       "    <tr>\n",
       "      <th>10</th>\n",
       "      <td>31</td>\n",
       "      <td>DEM</td>\n",
       "      <td>Democratic Politics</td>\n",
       "      <td>Y</td>\n",
       "      <td>CAA Regular Life Member</td>\n",
       "    </tr>\n",
       "    <tr>\n",
       "      <th>11</th>\n",
       "      <td>31</td>\n",
       "      <td>CIV</td>\n",
       "      <td>Civic Affairs</td>\n",
       "      <td>Y</td>\n",
       "      <td>CAA Regular Life Member</td>\n",
       "    </tr>\n",
       "    <tr>\n",
       "      <th>12</th>\n",
       "      <td>31</td>\n",
       "      <td>FLY</td>\n",
       "      <td>Flying/Airplane Ownership</td>\n",
       "      <td>Y</td>\n",
       "      <td>CAA Regular Life Member</td>\n",
       "    </tr>\n",
       "  </tbody>\n",
       "</table>\n",
       "</div>"
      ],
      "text/plain": [
       "    entity_id interest_code              interest_desc caa_current_memb  \\\n",
       "8          29           REP        Republican Politics                Y   \n",
       "9          29           CIV              Civic Affairs                Y   \n",
       "10         31           DEM        Democratic Politics                Y   \n",
       "11         31           CIV              Civic Affairs                Y   \n",
       "12         31           FLY  Flying/Airplane Ownership                Y   \n",
       "\n",
       "   caa_latest_memb_type_desc  \n",
       "8    CAA Regular Life Member  \n",
       "9    CAA Regular Life Member  \n",
       "10   CAA Regular Life Member  \n",
       "11   CAA Regular Life Member  \n",
       "12   CAA Regular Life Member  "
      ]
     },
     "execution_count": 242,
     "metadata": {},
     "output_type": "execute_result"
    }
   ],
   "source": [
    "membership_interests_filtered_member_only = membership_interests_filtered[membership_interests_filtered['caa_current_memb'] == \"Y\"] \n",
    "membership_interests_filtered_member_only.head()"
   ]
  },
  {
   "cell_type": "markdown",
   "metadata": {},
   "source": [
    "We now see which interests had the most members associated with it."
   ]
  },
  {
   "cell_type": "code",
   "execution_count": 429,
   "metadata": {},
   "outputs": [
    {
     "data": {
      "text/html": [
       "<div>\n",
       "<style scoped>\n",
       "    .dataframe tbody tr th:only-of-type {\n",
       "        vertical-align: middle;\n",
       "    }\n",
       "\n",
       "    .dataframe tbody tr th {\n",
       "        vertical-align: top;\n",
       "    }\n",
       "\n",
       "    .dataframe thead th {\n",
       "        text-align: right;\n",
       "    }\n",
       "</style>\n",
       "<table border=\"1\" class=\"dataframe\">\n",
       "  <thead>\n",
       "    <tr style=\"text-align: right;\">\n",
       "      <th></th>\n",
       "      <th>interest_desc</th>\n",
       "      <th>count</th>\n",
       "    </tr>\n",
       "  </thead>\n",
       "  <tbody>\n",
       "    <tr>\n",
       "      <th>0</th>\n",
       "      <td>Civic Affairs</td>\n",
       "      <td>19139</td>\n",
       "    </tr>\n",
       "    <tr>\n",
       "      <th>1</th>\n",
       "      <td>Democratic Politics</td>\n",
       "      <td>16149</td>\n",
       "    </tr>\n",
       "    <tr>\n",
       "      <th>2</th>\n",
       "      <td>Republican Politics</td>\n",
       "      <td>3906</td>\n",
       "    </tr>\n",
       "    <tr>\n",
       "      <th>3</th>\n",
       "      <td>Aquatic Sports</td>\n",
       "      <td>1555</td>\n",
       "    </tr>\n",
       "    <tr>\n",
       "      <th>4</th>\n",
       "      <td>Health</td>\n",
       "      <td>1448</td>\n",
       "    </tr>\n",
       "  </tbody>\n",
       "</table>\n",
       "</div>"
      ],
      "text/plain": [
       "         interest_desc  count\n",
       "0        Civic Affairs  19139\n",
       "1  Democratic Politics  16149\n",
       "2  Republican Politics   3906\n",
       "3       Aquatic Sports   1555\n",
       "4               Health   1448"
      ]
     },
     "execution_count": 429,
     "metadata": {},
     "output_type": "execute_result"
    }
   ],
   "source": [
    "interest_sorted = membership_interests_filtered.groupby('interest_desc').count()[['entity_id']].rename(columns = {\"entity_id\":\"count\"}).sort_values('count',ascending = False)\n",
    "interest_sorted = interest_sorted.reset_index()\n",
    "interest_sorted.head()"
   ]
  },
  {
   "cell_type": "markdown",
   "metadata": {},
   "source": [
    "We now plot how many CAA members have a certain interest. We plot the top 30 interests of CAA members."
   ]
  },
  {
   "cell_type": "code",
   "execution_count": 244,
   "metadata": {},
   "outputs": [
    {
     "data": {
      "text/plain": [
       "<function matplotlib.pyplot.show(*args, **kw)>"
      ]
     },
     "execution_count": 244,
     "metadata": {},
     "output_type": "execute_result"
    },
    {
     "data": {
      "image/png": "[encoded data removed]",
      "text/plain": [
       "<Figure size 1440x720 with 1 Axes>"
      ]
     },
     "metadata": {
      "needs_background": "light"
     },
     "output_type": "display_data"
    }
   ],
   "source": [
    "interest_sorted_top_20 = interest_sorted[0:30]\n",
    "\n",
    "objects = interest_sorted_top_20['interest_desc'].array\n",
    "y_pos = np.arange(len(objects))\n",
    "count = interest_sorted_top_20['count'].array\n",
    "\n",
    "plt.figure(figsize=(20,10))\n",
    "plt.bar(y_pos,count,align = 'center', alpha = 0.8)\n",
    "plt.xticks(y_pos, objects,rotation = 80)\n",
    "plt.ylim([0,21000])\n",
    "plt.yticks(np.arange(0, 21000, 1000))\n",
    "plt.show"
   ]
  },
  {
   "cell_type": "markdown",
   "metadata": {},
   "source": [
    "We do the same analysis on student organizations. "
   ]
  },
  {
   "cell_type": "code",
   "execution_count": 245,
   "metadata": {},
   "outputs": [
    {
     "data": {
      "text/html": [
       "<div>\n",
       "<style scoped>\n",
       "    .dataframe tbody tr th:only-of-type {\n",
       "        vertical-align: middle;\n",
       "    }\n",
       "\n",
       "    .dataframe tbody tr th {\n",
       "        vertical-align: top;\n",
       "    }\n",
       "\n",
       "    .dataframe thead th {\n",
       "        text-align: right;\n",
       "    }\n",
       "</style>\n",
       "<table border=\"1\" class=\"dataframe\">\n",
       "  <thead>\n",
       "    <tr style=\"text-align: right;\">\n",
       "      <th></th>\n",
       "      <th>count</th>\n",
       "    </tr>\n",
       "    <tr>\n",
       "      <th>student_activity_desc</th>\n",
       "      <th></th>\n",
       "    </tr>\n",
       "  </thead>\n",
       "  <tbody>\n",
       "    <tr>\n",
       "      <th>SLCP-Student Participants</th>\n",
       "      <td>14744</td>\n",
       "    </tr>\n",
       "    <tr>\n",
       "      <th>International House Resident</th>\n",
       "      <td>12207</td>\n",
       "    </tr>\n",
       "    <tr>\n",
       "      <th>Cal Corps Friends and Alumni</th>\n",
       "      <td>11317</td>\n",
       "    </tr>\n",
       "    <tr>\n",
       "      <th>Undergrad Research Apprentice Pgm (URAP)</th>\n",
       "      <td>10509</td>\n",
       "    </tr>\n",
       "    <tr>\n",
       "      <th>Honor Students' Society</th>\n",
       "      <td>4730</td>\n",
       "    </tr>\n",
       "  </tbody>\n",
       "</table>\n",
       "</div>"
      ],
      "text/plain": [
       "                                          count\n",
       "student_activity_desc                          \n",
       "SLCP-Student Participants                 14744\n",
       "International House Resident              12207\n",
       "Cal Corps Friends and Alumni              11317\n",
       "Undergrad Research Apprentice Pgm (URAP)  10509\n",
       "Honor Students' Society                    4730"
      ]
     },
     "execution_count": 245,
     "metadata": {},
     "output_type": "execute_result"
    }
   ],
   "source": [
    "student_activity_and_membership = Student_Activity.merge(caa_membership, how = \"outer\", left_on = \"entity_id\", right_on = \"entity_id\")\n",
    "student_activity_and_membership_sorted = student_activity_and_membership.groupby(\"student_activity_desc\").count().rename(columns = {\"entity_id\":\"count\"}).sort_values('count',ascending = False)\n",
    "student_activity_and_membership_sorted[['count']].head()"
   ]
  },
  {
   "cell_type": "markdown",
   "metadata": {},
   "source": [
    "We now perform a hypothesis test to see if members are more likely to have certain interests. To do this, we will use a bootstrap methdology. We will look at each interest and see if it is associated with membership participation. \n",
    "\n",
    "Our null hypothesis is:\n",
    "In the population, the percentage of alumni being active members interested in democratic policies is the same as alumns who don't have particular democratic policies. The difference in the sample is due to random chance.\n",
    "\n",
    "Likewise our alternative hypothesis is:\n",
    "In the population, alums who have an interest in democratic policies are more likely to participate on average, than alums who don't have these interests. \n",
    "\n",
    "And our test statistic would be:\n",
    "The alternative hypothesis compares the percentage of alumni participating as members of the two groups (interest/no interest) and says that the average for the alumni who have this interest is greater. Therefore it is reasonable for us to use the difference between the two group means as our statistic.\n",
    " \n",
    " "
   ]
  },
  {
   "cell_type": "markdown",
   "metadata": {},
   "source": [
    "There are 352 different interests. We store each of the in an array_of_interests"
   ]
  },
  {
   "cell_type": "code",
   "execution_count": 246,
   "metadata": {},
   "outputs": [
    {
     "data": {
      "text/plain": [
       "<PandasArray>\n",
       "[                     'Civic Affairs',                'Democratic Politics',\n",
       "                'Republican Politics',                     'Aquatic Sports',\n",
       "                             'Health',             'Diverse Constituencies',\n",
       "                           'Politics',                   'Entrepreneurship',\n",
       "                          'Education',                              'Women',\n",
       " ...\n",
       " 'Distance Learning/Online Education',                        'Early Music',\n",
       "                             'Ethics',                         'Freshwater',\n",
       "     'Spanish & Portuguese Interests',              'Palestinian Interests',\n",
       "          'Internet-Related e-Health',                               'K-12',\n",
       "                    'Lutheran Church',                      'Public Health']\n",
       "Length: 351, dtype: object"
      ]
     },
     "execution_count": 246,
     "metadata": {},
     "output_type": "execute_result"
    }
   ],
   "source": [
    "len(interest_sorted[\"interest_desc\"].unique())\n",
    "array_of_interests = interest_sorted[\"interest_desc\"].array\n",
    "array_of_interests"
   ]
  },
  {
   "cell_type": "markdown",
   "metadata": {},
   "source": [
    "As a proof of concept, let's just focus on democratic policies first. "
   ]
  },
  {
   "cell_type": "code",
   "execution_count": 247,
   "metadata": {},
   "outputs": [
    {
     "data": {
      "text/html": [
       "<div>\n",
       "<style scoped>\n",
       "    .dataframe tbody tr th:only-of-type {\n",
       "        vertical-align: middle;\n",
       "    }\n",
       "\n",
       "    .dataframe tbody tr th {\n",
       "        vertical-align: top;\n",
       "    }\n",
       "\n",
       "    .dataframe thead th {\n",
       "        text-align: right;\n",
       "    }\n",
       "</style>\n",
       "<table border=\"1\" class=\"dataframe\">\n",
       "  <thead>\n",
       "    <tr style=\"text-align: right;\">\n",
       "      <th></th>\n",
       "      <th>entity_id</th>\n",
       "      <th>interest_code</th>\n",
       "      <th>interest_desc</th>\n",
       "      <th>start_dt</th>\n",
       "      <th>stop_dt</th>\n",
       "      <th>caa_current_memb</th>\n",
       "      <th>caa_latest_memb_type_code</th>\n",
       "      <th>caa_latest_memb_type_desc</th>\n",
       "      <th>caa_latest_memb_status_code</th>\n",
       "      <th>caa_latest_memb_status_desc</th>\n",
       "      <th>caa_latest_memb_year</th>\n",
       "      <th>caa_latest_memb_start_date</th>\n",
       "      <th>caa_latest_memb_stop_date</th>\n",
       "    </tr>\n",
       "  </thead>\n",
       "  <tbody>\n",
       "    <tr>\n",
       "      <th>2</th>\n",
       "      <td>15</td>\n",
       "      <td>DEM</td>\n",
       "      <td>Democratic Politics</td>\n",
       "      <td>2019-01-01 00:00:00</td>\n",
       "      <td>NaN</td>\n",
       "      <td>N</td>\n",
       "      <td>PL</td>\n",
       "      <td>CAA Paying Life</td>\n",
       "      <td>W</td>\n",
       "      <td>Lapsed</td>\n",
       "      <td>2010.0</td>\n",
       "      <td>2010-02-10 00:00:00</td>\n",
       "      <td>NaN</td>\n",
       "    </tr>\n",
       "    <tr>\n",
       "      <th>10</th>\n",
       "      <td>31</td>\n",
       "      <td>DEM</td>\n",
       "      <td>Democratic Politics</td>\n",
       "      <td>2019-01-01 00:00:00</td>\n",
       "      <td>NaN</td>\n",
       "      <td>Y</td>\n",
       "      <td>RL</td>\n",
       "      <td>CAA Regular Life Member</td>\n",
       "      <td>P</td>\n",
       "      <td>Paid</td>\n",
       "      <td>1996.0</td>\n",
       "      <td>1995-10-13 00:00:00</td>\n",
       "      <td>NaN</td>\n",
       "    </tr>\n",
       "    <tr>\n",
       "      <th>20</th>\n",
       "      <td>80</td>\n",
       "      <td>DEM</td>\n",
       "      <td>Democratic Politics</td>\n",
       "      <td>2019-01-01 00:00:00</td>\n",
       "      <td>NaN</td>\n",
       "      <td>Y</td>\n",
       "      <td>RL</td>\n",
       "      <td>CAA Regular Life Member</td>\n",
       "      <td>P</td>\n",
       "      <td>Paid</td>\n",
       "      <td>1931.0</td>\n",
       "      <td>1930-01-01 00:00:00</td>\n",
       "      <td>NaN</td>\n",
       "    </tr>\n",
       "    <tr>\n",
       "      <th>24</th>\n",
       "      <td>82</td>\n",
       "      <td>DEM</td>\n",
       "      <td>Democratic Politics</td>\n",
       "      <td>2015-03-10 00:00:00</td>\n",
       "      <td>NaN</td>\n",
       "      <td>Y</td>\n",
       "      <td>RL</td>\n",
       "      <td>CAA Regular Life Member</td>\n",
       "      <td>P</td>\n",
       "      <td>Paid</td>\n",
       "      <td>1972.0</td>\n",
       "      <td>1971-10-10 00:00:00</td>\n",
       "      <td>NaN</td>\n",
       "    </tr>\n",
       "    <tr>\n",
       "      <th>40</th>\n",
       "      <td>147</td>\n",
       "      <td>DEM</td>\n",
       "      <td>Democratic Politics</td>\n",
       "      <td>2019-01-01 00:00:00</td>\n",
       "      <td>NaN</td>\n",
       "      <td>Y</td>\n",
       "      <td>RL</td>\n",
       "      <td>CAA Regular Life Member</td>\n",
       "      <td>P</td>\n",
       "      <td>Paid</td>\n",
       "      <td>1951.0</td>\n",
       "      <td>1950-07-31 00:00:00</td>\n",
       "      <td>NaN</td>\n",
       "    </tr>\n",
       "  </tbody>\n",
       "</table>\n",
       "</div>"
      ],
      "text/plain": [
       "    entity_id interest_code        interest_desc             start_dt stop_dt  \\\n",
       "2          15           DEM  Democratic Politics  2019-01-01 00:00:00     NaN   \n",
       "10         31           DEM  Democratic Politics  2019-01-01 00:00:00     NaN   \n",
       "20         80           DEM  Democratic Politics  2019-01-01 00:00:00     NaN   \n",
       "24         82           DEM  Democratic Politics  2015-03-10 00:00:00     NaN   \n",
       "40        147           DEM  Democratic Politics  2019-01-01 00:00:00     NaN   \n",
       "\n",
       "   caa_current_memb caa_latest_memb_type_code caa_latest_memb_type_desc  \\\n",
       "2                 N                        PL           CAA Paying Life   \n",
       "10                Y                        RL   CAA Regular Life Member   \n",
       "20                Y                        RL   CAA Regular Life Member   \n",
       "24                Y                        RL   CAA Regular Life Member   \n",
       "40                Y                        RL   CAA Regular Life Member   \n",
       "\n",
       "   caa_latest_memb_status_code caa_latest_memb_status_desc  \\\n",
       "2                            W                      Lapsed   \n",
       "10                           P                        Paid   \n",
       "20                           P                        Paid   \n",
       "24                           P                        Paid   \n",
       "40                           P                        Paid   \n",
       "\n",
       "    caa_latest_memb_year caa_latest_memb_start_date caa_latest_memb_stop_date  \n",
       "2                 2010.0        2010-02-10 00:00:00                       NaN  \n",
       "10                1996.0        1995-10-13 00:00:00                       NaN  \n",
       "20                1931.0        1930-01-01 00:00:00                       NaN  \n",
       "24                1972.0        1971-10-10 00:00:00                       NaN  \n",
       "40                1951.0        1950-07-31 00:00:00                       NaN  "
      ]
     },
     "execution_count": 247,
     "metadata": {},
     "output_type": "execute_result"
    }
   ],
   "source": [
    "democratic_policies = membership_interests[membership_interests[\"interest_desc\"] == \"Democratic Politics\"]\n",
    "democratic_participate = democratic_policies[democratic_policies[\"caa_current_memb\"] == \"Y\"]\n",
    "democratic_no_participate = democratic_policies[democratic_policies[\"caa_current_memb\"] == \"N\"]\n",
    "democratic_policies.head()"
   ]
  },
  {
   "cell_type": "markdown",
   "metadata": {},
   "source": [
    "As we can see, of the members who expressed an interest in democratic politics, there appears to be about ~1000 more members participating in CAA as members. However, this alone does not prove or show that CAA members are more left-leaning in general. In further analysis, we will attempt to awnser this question. "
   ]
  },
  {
   "cell_type": "code",
   "execution_count": 248,
   "metadata": {},
   "outputs": [
    {
     "name": "stdout",
     "output_type": "stream",
     "text": [
      "0.5303733977336058\n"
     ]
    }
   ],
   "source": [
    "print(len(democratic_participate) /len(democratic_policies))"
   ]
  },
  {
   "cell_type": "markdown",
   "metadata": {},
   "source": [
    "53% of alumns with democratic interests were CAA members, compared with 50% from the general population."
   ]
  },
  {
   "cell_type": "code",
   "execution_count": 249,
   "metadata": {},
   "outputs": [
    {
     "data": {
      "text/plain": [
       "0.5037793034056677"
      ]
     },
     "execution_count": 249,
     "metadata": {},
     "output_type": "execute_result"
    }
   ],
   "source": [
    "len(membership_interests_filtered_member_only)/len(membership_interests)"
   ]
  },
  {
   "cell_type": "markdown",
   "metadata": {},
   "source": [
    "Our test statistic is calculated as below. Greater values will suggest an anomoly.\n",
    "Basically we are finding the difference in participation between members who have expressed an interest\n",
    "in democratic policies versus the general population."
   ]
  },
  {
   "cell_type": "code",
   "execution_count": 250,
   "metadata": {},
   "outputs": [
    {
     "data": {
      "text/plain": [
       "0.026594094327938134"
      ]
     },
     "execution_count": 250,
     "metadata": {},
     "output_type": "execute_result"
    }
   ],
   "source": [
    "point_test_statistic = len(democratic_participate) /len(democratic_policies) - len(membership_interests_filtered_member_only)/len(membership_interests)\n",
    "point_test_statistic"
   ]
  },
  {
   "cell_type": "markdown",
   "metadata": {},
   "source": [
    "That said, we will now perform A/B testing to see if people who are interested in democratic politics become CAA members due to random chance or if there is a correlation between the CAA membership and favorability of democratic politics. We shuffle the original memberships interest table (shuffle column caa_current_memb) and calculate the test statistic. \n"
   ]
  },
  {
   "cell_type": "code",
   "execution_count": 18,
   "metadata": {},
   "outputs": [
    {
     "name": "stderr",
     "output_type": "stream",
     "text": [
      "/Users/kevinliu/anaconda3/lib/python3.7/site-packages/ipykernel_launcher.py:8: SettingWithCopyWarning: \n",
      "A value is trying to be set on a copy of a slice from a DataFrame.\n",
      "Try using .loc[row_indexer,col_indexer] = value instead\n",
      "\n",
      "See the caveats in the documentation: http://pandas.pydata.org/pandas-docs/stable/indexing.html#indexing-view-versus-copy\n",
      "  \n"
     ]
    }
   ],
   "source": [
    "array_of_test_statistics = []\n",
    "sampling_array = membership_interests[\"caa_current_memb\"].array\n",
    "\n",
    "for i in range(0,1000):\n",
    "    ##Sampling methodology: \n",
    "    #new_suffled_list = choices(sampling_array, k=len(membership_interests_filtered))\n",
    "    new_suffled_list = np.array(membership_interests.sample(n=len(membership_interests),replace = True)[\"caa_current_memb\"])\n",
    "    membership_interests_filtered['caa_current_memb_shuffled'] = new_suffled_list\n",
    "    shuffled_table = membership_interests_filtered\n",
    "    \n",
    "    democratic_policies_shuffled = shuffled_table[shuffled_table[\"interest_desc\"] == \"Democratic Politics\"]\n",
    "    democratic_participate_shuffled = democratic_policies_shuffled[democratic_policies_shuffled[\"caa_current_memb_shuffled\"] == \"Y\"]\n",
    "    democratic_no_participate_shuffled = democratic_policies_shuffled[democratic_policies_shuffled[\"caa_current_memb_shuffled\"] == \"N\"]\n",
    "    \n",
    "    test_statistic =  (len(democratic_participate_shuffled) /len(democratic_policies_shuffled)) - 0.5037793034056677\n",
    "    array_of_test_statistics.append(test_statistic)\n",
    "\n"
   ]
  },
  {
   "cell_type": "code",
   "execution_count": 19,
   "metadata": {},
   "outputs": [
    {
     "name": "stdout",
     "output_type": "stream",
     "text": [
      "8151 7998 16149\n"
     ]
    }
   ],
   "source": [
    "print(len(democratic_participate_shuffled), len(democratic_no_participate_shuffled), len(democratic_policies_shuffled))"
   ]
  },
  {
   "cell_type": "markdown",
   "metadata": {},
   "source": [
    "We have a p-value of 0, indicating that the null hypothesis could not have happened. Hence, we can conclude that alumns who expressed an interest in democratic politics are more likely to become CAA current members."
   ]
  },
  {
   "cell_type": "code",
   "execution_count": 20,
   "metadata": {},
   "outputs": [
    {
     "data": {
      "text/plain": [
       "0.0"
      ]
     },
     "execution_count": 20,
     "metadata": {},
     "output_type": "execute_result"
    }
   ],
   "source": [
    "count = 0\n",
    "for i in range(len(array_of_test_statistics)):\n",
    "    if (point_test_statistic >= array_of_test_statistics[i]):\n",
    "        count = count + 1\n",
    "\n",
    "1 - count/1000"
   ]
  },
  {
   "cell_type": "markdown",
   "metadata": {},
   "source": [
    "Let's expand out hypothesis test to all interests, and see which ones are significant. To reduce the risk of messing up our previous values, we reassign our data tables. We want to make sure our sample size is appropriate. 100 is the minimum acceptable sample size, so we only look at interests that have more than 100 people. We end up with 168 valid interests. We can now store the percetentage of CAA members per acceptable interest."
   ]
  },
  {
   "cell_type": "code",
   "execution_count": null,
   "metadata": {},
   "outputs": [],
   "source": [
    "table_1 = membership_interests_filtered_member_only\n",
    "table_2 = membership_interests_filtered\n",
    "table_3 = membership_interests\n",
    "table_4 = interest_sorted[interest_sorted['count'] > 100]\n"
   ]
  },
  {
   "cell_type": "code",
   "execution_count": 267,
   "metadata": {},
   "outputs": [],
   "source": [
    "def A_B_test(interest,table_2, n=100):\n",
    "    \n",
    "    array_of_test_statistics = []\n",
    "    sampling_array = membership_interests[\"caa_current_memb\"].array\n",
    "    \n",
    "    for i in np.arange(1,n):\n",
    "       \n",
    "    ##Sampling methodology: \n",
    "        new_suffled_list = np.array(table_2.sample(n=len(table_2),replace = True)[\"caa_current_memb\"])\n",
    "        table_2['caa_current_memb_shuffled'] = new_suffled_list\n",
    "        shuffled_table = table_2\n",
    "\n",
    "        interest_shuffled = shuffled_table[shuffled_table[\"interest_desc\"] == interest]\n",
    "        participate_shuffled = interest_shuffled[interest_shuffled[\"caa_current_memb_shuffled\"] == \"Y\"]\n",
    "        no_participate_shuffled = interest_shuffled[interest_shuffled[\"caa_current_memb_shuffled\"] == \"N\"]\n",
    "\n",
    "        test_statistic =  (len(participate_shuffled) /len(interest_shuffled)) - 0.5037793034056677\n",
    "        array_of_test_statistics.append(test_statistic)\n",
    "    return array_of_test_statistics\n",
    "        "
   ]
  },
  {
   "cell_type": "code",
   "execution_count": 281,
   "metadata": {},
   "outputs": [],
   "source": [
    "def point_test_statistic(interest):\n",
    "    ## Run this before running the A_B_test\n",
    "    shuffled_table = membership_interests_filtered\n",
    "    interest_shuffled = shuffled_table[shuffled_table[\"interest_desc\"] == interest]\n",
    "    participate_shuffled = interest_shuffled[interest_shuffled[\"caa_current_memb\"] == \"Y\"]\n",
    "    no_participate_shuffled = interest_shuffled[interest_shuffled[\"caa_current_memb\"] == \"N\"]\n",
    "    point_test_statistic = (len(participate_shuffled) /len(interest_shuffled)) - (len(membership_interests_filtered_member_only)/len(membership_interests))\n",
    "    return point_test_statistic"
   ]
  },
  {
   "cell_type": "code",
   "execution_count": 437,
   "metadata": {},
   "outputs": [],
   "source": [
    "def p_value_likely(array_of_test_statistics,point_test_statistic_result,n=100):\n",
    "    count = 0\n",
    "    for i in range(len(array_of_test_statistics)):\n",
    "        if (point_test_statistic_result >= array_of_test_statistics[i]):\n",
    "            count = count + 1\n",
    "\n",
    "    return 1 - count/n\n"
   ]
  },
  {
   "cell_type": "code",
   "execution_count": 438,
   "metadata": {},
   "outputs": [],
   "source": [
    "def p_value_unlikely(array_of_test_statistics,point_test_statistic_result,n=100):\n",
    "    count = 0\n",
    "    for i in range(len(array_of_test_statistics)):\n",
    "        if (point_test_statistic_result >= array_of_test_statistics[i]):\n",
    "            count = count + 1\n",
    "\n",
    "    return count/n\n",
    " "
   ]
  },
  {
   "cell_type": "code",
   "execution_count": 426,
   "metadata": {},
   "outputs": [
    {
     "name": "stderr",
     "output_type": "stream",
     "text": [
      "/Users/kevinliu/anaconda3/lib/python3.7/site-packages/ipykernel_launcher.py:10: SettingWithCopyWarning: \n",
      "A value is trying to be set on a copy of a slice from a DataFrame.\n",
      "Try using .loc[row_indexer,col_indexer] = value instead\n",
      "\n",
      "See the caveats in the documentation: http://pandas.pydata.org/pandas-docs/stable/indexing.html#indexing-view-versus-copy\n",
      "  # Remove the CWD from sys.path while we load stuff.\n"
     ]
    },
    {
     "data": {
      "text/plain": [
       "0.04"
      ]
     },
     "execution_count": 426,
     "metadata": {},
     "output_type": "execute_result"
    }
   ],
   "source": [
    "array_of_test_statistics = A_B_test(\"International Law\",table_2)\n",
    "point_test_statistic_result = point_test_statistic(\"International Law\")\n",
    "p_value_unlikely(array_of_test_statistics,point_test_statistic_result)\n"
   ]
  },
  {
   "cell_type": "markdown",
   "metadata": {},
   "source": [
    "We know run our hypothesis test on all acceptable interests (those with >= 100 people). Our p-values will\n",
    "all be stored in dict_of_p_values (key = interest, value = p-value)."
   ]
  },
  {
   "cell_type": "code",
   "execution_count": 439,
   "metadata": {},
   "outputs": [
    {
     "name": "stderr",
     "output_type": "stream",
     "text": [
      "/Users/kevinliu/anaconda3/lib/python3.7/site-packages/ipykernel_launcher.py:10: SettingWithCopyWarning: \n",
      "A value is trying to be set on a copy of a slice from a DataFrame.\n",
      "Try using .loc[row_indexer,col_indexer] = value instead\n",
      "\n",
      "See the caveats in the documentation: http://pandas.pydata.org/pandas-docs/stable/indexing.html#indexing-view-versus-copy\n",
      "  # Remove the CWD from sys.path while we load stuff.\n"
     ]
    }
   ],
   "source": [
    "dict_of_p_values = {}\n",
    "for interest in table_4[\"interest_desc\"].array:\n",
    "    array_of_test_statistics = A_B_test(interest,table_2)\n",
    "    point_test_statistic_result = point_test_statistic(interest)\n",
    "    dict_of_p_values[interest] = p_value_likely(array_of_test_statistics,point_test_statistic_result)"
   ]
  },
  {
   "cell_type": "markdown",
   "metadata": {},
   "source": [
    "We will also store the relative percent of caa members for each acceptable interest. "
   ]
  },
  {
   "cell_type": "code",
   "execution_count": 441,
   "metadata": {},
   "outputs": [],
   "source": [
    "percent_dictionary ={}\n",
    "#array_of_percents = []\n",
    "for interest in table_4[\"interest_desc\"].array:\n",
    "    total = membership_interests_filtered[membership_interests_filtered[\"interest_desc\"] == interest]\n",
    "    member = total[total[\"caa_current_memb\"] == \"Y\"]\n",
    "    non_member = total[total[\"caa_current_memb\"] == \"N\"]\n",
    "    percent = len(member)/len(total)\n",
    "    percent_dictionary[interest] = percent * 100\n",
    "    #array_of_percents.append(percent*100)\n",
    "    "
   ]
  },
  {
   "cell_type": "code",
   "execution_count": 448,
   "metadata": {},
   "outputs": [
    {
     "data": {
      "text/plain": [
       "351"
      ]
     },
     "execution_count": 448,
     "metadata": {},
     "output_type": "execute_result"
    }
   ],
   "source": [
    "len(interest_sorted)"
   ]
  },
  {
   "cell_type": "markdown",
   "metadata": {},
   "source": [
    "Now let's make a new dataframe containing an interest column and percent members. \n",
    "\n",
    "We define interest column as the specific interest.\n",
    "\n",
    "We define percent members as the # of CAA members for given interest / total # of people with that interest."
   ]
  },
  {
   "cell_type": "code",
   "execution_count": 442,
   "metadata": {},
   "outputs": [],
   "source": [
    "col1 = list(percent_dictionary.keys())\n",
    "col2 = list(percent_dictionary.values())\n",
    "table_of_percent_members = pd.DataFrame(data={\"interests_column\":col1,'percent members (interest population)':col2})\n"
   ]
  },
  {
   "cell_type": "code",
   "execution_count": 462,
   "metadata": {},
   "outputs": [],
   "source": [
    "\n",
    "# statistically_significant_dictionary = {}\n",
    "# for i in dict_of_p_values:\n",
    "#     if (dict_of_p_values[i] < 0.05):\n",
    "#         statistically_significant_dictionary[i] = dict_of_p_values[i]\n",
    "# interests_column = statistically_significant_dictionary.keys()\n",
    "# p_value_column = statistically_significant_dictionary.values()\n",
    "interests_column = list(dict_of_p_values.keys())\n",
    "p_value_column = list(dict_of_p_values.values())\n",
    "\n",
    "\n",
    "df = pd.DataFrame(data={'interests_column':interests_column,'p_value':p_value_column})\n",
    "df = df.merge(interest_sorted,left_on=\"interests_column\",right_on=\"interest_desc\")\n",
    "df[\"percent members (total population)\"] = df['count']/len(table_2) * 100\n",
    "df = df.merge(table_of_percent_members)\n",
    "df = df.sort_values(by='p_value')\n"
   ]
  },
  {
   "cell_type": "markdown",
   "metadata": {},
   "source": [
    "Now, let's filter out to those that only have a p-value of 0.05 or less."
   ]
  },
  {
   "cell_type": "code",
   "execution_count": 466,
   "metadata": {},
   "outputs": [
    {
     "data": {
      "text/html": [
       "<div>\n",
       "<style scoped>\n",
       "    .dataframe tbody tr th:only-of-type {\n",
       "        vertical-align: middle;\n",
       "    }\n",
       "\n",
       "    .dataframe tbody tr th {\n",
       "        vertical-align: top;\n",
       "    }\n",
       "\n",
       "    .dataframe thead th {\n",
       "        text-align: right;\n",
       "    }\n",
       "</style>\n",
       "<table border=\"1\" class=\"dataframe\">\n",
       "  <thead>\n",
       "    <tr style=\"text-align: right;\">\n",
       "      <th></th>\n",
       "      <th>interests_column</th>\n",
       "      <th>p_value</th>\n",
       "      <th>interest_desc</th>\n",
       "      <th>count</th>\n",
       "      <th>percent members (total population)</th>\n",
       "      <th>percent members (interest population)</th>\n",
       "    </tr>\n",
       "  </thead>\n",
       "  <tbody>\n",
       "    <tr>\n",
       "      <th>0</th>\n",
       "      <td>Civic Affairs</td>\n",
       "      <td>0.01</td>\n",
       "      <td>Civic Affairs</td>\n",
       "      <td>19139</td>\n",
       "      <td>5.871111</td>\n",
       "      <td>54.281833</td>\n",
       "    </tr>\n",
       "    <tr>\n",
       "      <th>30</th>\n",
       "      <td>Music</td>\n",
       "      <td>0.01</td>\n",
       "      <td>Music</td>\n",
       "      <td>321</td>\n",
       "      <td>0.098470</td>\n",
       "      <td>74.143302</td>\n",
       "    </tr>\n",
       "    <tr>\n",
       "      <th>31</th>\n",
       "      <td>Architecture</td>\n",
       "      <td>0.01</td>\n",
       "      <td>Architecture</td>\n",
       "      <td>313</td>\n",
       "      <td>0.096016</td>\n",
       "      <td>63.897764</td>\n",
       "    </tr>\n",
       "    <tr>\n",
       "      <th>39</th>\n",
       "      <td>Jewish Interests</td>\n",
       "      <td>0.01</td>\n",
       "      <td>Jewish Interests</td>\n",
       "      <td>257</td>\n",
       "      <td>0.078838</td>\n",
       "      <td>64.980545</td>\n",
       "    </tr>\n",
       "    <tr>\n",
       "      <th>82</th>\n",
       "      <td>Global Health</td>\n",
       "      <td>0.01</td>\n",
       "      <td>Global Health</td>\n",
       "      <td>103</td>\n",
       "      <td>0.031596</td>\n",
       "      <td>61.165049</td>\n",
       "    </tr>\n",
       "  </tbody>\n",
       "</table>\n",
       "</div>"
      ],
      "text/plain": [
       "    interests_column  p_value     interest_desc  count  \\\n",
       "0      Civic Affairs     0.01     Civic Affairs  19139   \n",
       "30             Music     0.01             Music    321   \n",
       "31      Architecture     0.01      Architecture    313   \n",
       "39  Jewish Interests     0.01  Jewish Interests    257   \n",
       "82     Global Health     0.01     Global Health    103   \n",
       "\n",
       "    percent members (total population)  percent members (interest population)  \n",
       "0                             5.871111                              54.281833  \n",
       "30                            0.098470                              74.143302  \n",
       "31                            0.096016                              63.897764  \n",
       "39                            0.078838                              64.980545  \n",
       "82                            0.031596                              61.165049  "
      ]
     },
     "execution_count": 466,
     "metadata": {},
     "output_type": "execute_result"
    }
   ],
   "source": [
    "df = df[df['p_value'] < 0.05]\n",
    "df.head()"
   ]
  },
  {
   "cell_type": "code",
   "execution_count": null,
   "metadata": {},
   "outputs": [],
   "source": []
  },
  {
   "cell_type": "markdown",
   "metadata": {},
   "source": [
    "Let's look at it in a different direction. Are there interests associated with alumni that would make them less prone to donate to CAA? In this case, out testing methdology is largely the same, but we revise the hyppothesis testing to be as follows:\n",
    "\n",
    "Null Hypothesis: Alumns having these [interests] are no less likely to donate to CAA than other alums.\n",
    "\n",
    "Alternative Hypothesis: Alums having these [interests] are less likely to donate to CAA than other alums.\n",
    "\n",
    "Test Statistic: We calculate the percentage of CAA members within that area of interest and compare it to the overall population. The alternative hypothesis says that those with certain interests are less likely to donate to CAA, so it is resonable to use the difference as the test statistic.\n",
    "\n",
    "Critera for rejecting the null: We will use the standard p-val of 0.05 defined as \"statistically significant.\"\n"
   ]
  },
  {
   "cell_type": "code",
   "execution_count": 449,
   "metadata": {},
   "outputs": [
    {
     "name": "stderr",
     "output_type": "stream",
     "text": [
      "/Users/kevinliu/anaconda3/lib/python3.7/site-packages/ipykernel_launcher.py:10: SettingWithCopyWarning: \n",
      "A value is trying to be set on a copy of a slice from a DataFrame.\n",
      "Try using .loc[row_indexer,col_indexer] = value instead\n",
      "\n",
      "See the caveats in the documentation: http://pandas.pydata.org/pandas-docs/stable/indexing.html#indexing-view-versus-copy\n",
      "  # Remove the CWD from sys.path while we load stuff.\n"
     ]
    }
   ],
   "source": [
    "dict_of_p_values_unlikely = {}\n",
    "for interest in table_4[\"interest_desc\"].array:\n",
    "    array_of_test_statistics = A_B_test(interest,table_2)\n",
    "    point_test_statistic_result = point_test_statistic(interest)\n",
    "    dict_of_p_values_unlikely[interest] = p_value_unlikely(array_of_test_statistics,point_test_statistic_result)"
   ]
  },
  {
   "cell_type": "markdown",
   "metadata": {},
   "source": [
    "We will also store the relative percent of caa members for each acceptable interest. "
   ]
  },
  {
   "cell_type": "code",
   "execution_count": 450,
   "metadata": {},
   "outputs": [],
   "source": [
    "percent_dictionary_unlikely ={}\n",
    "#array_of_percents = []\n",
    "for interest in table_4[\"interest_desc\"].array:\n",
    "    total = membership_interests_filtered[membership_interests_filtered[\"interest_desc\"] == interest]\n",
    "    member = total[total[\"caa_current_memb\"] == \"Y\"]\n",
    "    non_member = total[total[\"caa_current_memb\"] == \"N\"]\n",
    "    percent = len(member)/len(total)\n",
    "    percent_dictionary_unlikely[interest] = percent * 100\n",
    "    #array_of_percents.append(percent*100)\n",
    "    "
   ]
  },
  {
   "cell_type": "code",
   "execution_count": 451,
   "metadata": {},
   "outputs": [],
   "source": [
    "col3 = list(percent_dictionary_unlikely.keys())\n",
    "col4 = list(percent_dictionary_unlikely.values())\n",
    "table_of_percent_members_unlikely = pd.DataFrame(data={\"interests_column\":col3,'percent members (interest population)':col4})\n"
   ]
  },
  {
   "cell_type": "code",
   "execution_count": 469,
   "metadata": {},
   "outputs": [
    {
     "data": {
      "text/html": [
       "<div>\n",
       "<style scoped>\n",
       "    .dataframe tbody tr th:only-of-type {\n",
       "        vertical-align: middle;\n",
       "    }\n",
       "\n",
       "    .dataframe tbody tr th {\n",
       "        vertical-align: top;\n",
       "    }\n",
       "\n",
       "    .dataframe thead th {\n",
       "        text-align: right;\n",
       "    }\n",
       "</style>\n",
       "<table border=\"1\" class=\"dataframe\">\n",
       "  <thead>\n",
       "    <tr style=\"text-align: right;\">\n",
       "      <th></th>\n",
       "      <th>interests_column</th>\n",
       "      <th>p_value</th>\n",
       "      <th>interest_desc</th>\n",
       "      <th>count</th>\n",
       "      <th>percent members (total population)</th>\n",
       "      <th>percent members (interest population)</th>\n",
       "    </tr>\n",
       "  </thead>\n",
       "  <tbody>\n",
       "    <tr>\n",
       "      <th>22</th>\n",
       "      <td>Marketing</td>\n",
       "      <td>0.00</td>\n",
       "      <td>Marketing</td>\n",
       "      <td>478</td>\n",
       "      <td>0.146632</td>\n",
       "      <td>41.631799</td>\n",
       "    </tr>\n",
       "    <tr>\n",
       "      <th>40</th>\n",
       "      <td>Non-Profit Business</td>\n",
       "      <td>0.01</td>\n",
       "      <td>Non-Profit Business</td>\n",
       "      <td>256</td>\n",
       "      <td>0.078531</td>\n",
       "      <td>43.750000</td>\n",
       "    </tr>\n",
       "    <tr>\n",
       "      <th>10</th>\n",
       "      <td>Litigation</td>\n",
       "      <td>0.03</td>\n",
       "      <td>Litigation</td>\n",
       "      <td>1021</td>\n",
       "      <td>0.313204</td>\n",
       "      <td>47.306562</td>\n",
       "    </tr>\n",
       "    <tr>\n",
       "      <th>47</th>\n",
       "      <td>International Law</td>\n",
       "      <td>0.06</td>\n",
       "      <td>International Law</td>\n",
       "      <td>213</td>\n",
       "      <td>0.065340</td>\n",
       "      <td>44.131455</td>\n",
       "    </tr>\n",
       "    <tr>\n",
       "      <th>29</th>\n",
       "      <td>Labor &amp; Employment Law</td>\n",
       "      <td>0.09</td>\n",
       "      <td>Labor &amp; Employment Law</td>\n",
       "      <td>334</td>\n",
       "      <td>0.102458</td>\n",
       "      <td>47.005988</td>\n",
       "    </tr>\n",
       "  </tbody>\n",
       "</table>\n",
       "</div>"
      ],
      "text/plain": [
       "          interests_column  p_value           interest_desc  count  \\\n",
       "22               Marketing     0.00               Marketing    478   \n",
       "40     Non-Profit Business     0.01     Non-Profit Business    256   \n",
       "10              Litigation     0.03              Litigation   1021   \n",
       "47       International Law     0.06       International Law    213   \n",
       "29  Labor & Employment Law     0.09  Labor & Employment Law    334   \n",
       "\n",
       "    percent members (total population)  percent members (interest population)  \n",
       "22                            0.146632                              41.631799  \n",
       "40                            0.078531                              43.750000  \n",
       "10                            0.313204                              47.306562  \n",
       "47                            0.065340                              44.131455  \n",
       "29                            0.102458                              47.005988  "
      ]
     },
     "execution_count": 469,
     "metadata": {},
     "output_type": "execute_result"
    }
   ],
   "source": [
    "interests_column_unlikely = list(dict_of_p_values_unlikely.keys())\n",
    "p_value_column_unlikely = list(dict_of_p_values_unlikely.values())\n",
    "\n",
    "\n",
    "df_unlikely = pd.DataFrame(data={'interests_column':interests_column_unlikely,'p_value':p_value_column_unlikely})\n",
    "df_unlikely = df_unlikely.merge(interest_sorted,left_on=\"interests_column\",right_on=\"interest_desc\")\n",
    "df_unlikely[\"percent members (total population)\"] = df_unlikely['count']/len(table_2) * 100\n",
    "df_unlikely = df_unlikely.merge(table_of_percent_members_unlikely)\n",
    "df_unlikely = df_unlikely.sort_values(by='p_value')\n",
    "df_unlikely.head()"
   ]
  },
  {
   "cell_type": "markdown",
   "metadata": {},
   "source": [
    "We also again filter out to p valus of 0.05 or less."
   ]
  },
  {
   "cell_type": "code",
   "execution_count": 471,
   "metadata": {},
   "outputs": [
    {
     "data": {
      "text/html": [
       "<div>\n",
       "<style scoped>\n",
       "    .dataframe tbody tr th:only-of-type {\n",
       "        vertical-align: middle;\n",
       "    }\n",
       "\n",
       "    .dataframe tbody tr th {\n",
       "        vertical-align: top;\n",
       "    }\n",
       "\n",
       "    .dataframe thead th {\n",
       "        text-align: right;\n",
       "    }\n",
       "</style>\n",
       "<table border=\"1\" class=\"dataframe\">\n",
       "  <thead>\n",
       "    <tr style=\"text-align: right;\">\n",
       "      <th></th>\n",
       "      <th>interests_column</th>\n",
       "      <th>p_value</th>\n",
       "      <th>interest_desc</th>\n",
       "      <th>count</th>\n",
       "      <th>percent members (total population)</th>\n",
       "      <th>percent members (interest population)</th>\n",
       "    </tr>\n",
       "  </thead>\n",
       "  <tbody>\n",
       "    <tr>\n",
       "      <th>22</th>\n",
       "      <td>Marketing</td>\n",
       "      <td>0.00</td>\n",
       "      <td>Marketing</td>\n",
       "      <td>478</td>\n",
       "      <td>0.146632</td>\n",
       "      <td>41.631799</td>\n",
       "    </tr>\n",
       "    <tr>\n",
       "      <th>40</th>\n",
       "      <td>Non-Profit Business</td>\n",
       "      <td>0.01</td>\n",
       "      <td>Non-Profit Business</td>\n",
       "      <td>256</td>\n",
       "      <td>0.078531</td>\n",
       "      <td>43.750000</td>\n",
       "    </tr>\n",
       "    <tr>\n",
       "      <th>10</th>\n",
       "      <td>Litigation</td>\n",
       "      <td>0.03</td>\n",
       "      <td>Litigation</td>\n",
       "      <td>1021</td>\n",
       "      <td>0.313204</td>\n",
       "      <td>47.306562</td>\n",
       "    </tr>\n",
       "  </tbody>\n",
       "</table>\n",
       "</div>"
      ],
      "text/plain": [
       "       interests_column  p_value        interest_desc  count  \\\n",
       "22            Marketing     0.00            Marketing    478   \n",
       "40  Non-Profit Business     0.01  Non-Profit Business    256   \n",
       "10           Litigation     0.03           Litigation   1021   \n",
       "\n",
       "    percent members (total population)  percent members (interest population)  \n",
       "22                            0.146632                              41.631799  \n",
       "40                            0.078531                              43.750000  \n",
       "10                            0.313204                              47.306562  "
      ]
     },
     "execution_count": 471,
     "metadata": {},
     "output_type": "execute_result"
    }
   ],
   "source": [
    "df_unlikely = df_unlikely[df_unlikely['p_value'] < 0.05]\n",
    "df_unlikely"
   ]
  },
  {
   "cell_type": "code",
   "execution_count": null,
   "metadata": {},
   "outputs": [],
   "source": []
  }
 ],
 "metadata": {
  "kernelspec": {
   "display_name": "Python 3",
   "language": "python",
   "name": "python3"
  },
  "language_info": {
   "codemirror_mode": {
    "name": "ipython",
    "version": 3
   },
   "file_extension": ".py",
   "mimetype": "text/x-python",
   "name": "python",
   "nbconvert_exporter": "python",
   "pygments_lexer": "ipython3",
   "version": "3.7.3"
  }
 },
 "nbformat": 4,
 "nbformat_minor": 2
}
